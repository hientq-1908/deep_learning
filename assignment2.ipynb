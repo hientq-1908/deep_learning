{
 "cells": [
  {
   "cell_type": "code",
   "execution_count": 7,
   "metadata": {
    "scrolled": true
   },
   "outputs": [],
   "source": [
    "from keras.datasets import cifar10\n",
    "from keras.utils.np_utils import to_categorical   \n",
    "from keras.models import Sequential\n",
    "from keras.layers import Dense, Activation, Dropout, BatchNormalization, Flatten, Conv2D, MaxPooling2D\n",
    "from keras.optimizers import SGD\n",
    "\n",
    "import matplotlib.pyplot as plt\n",
    "import numpy as np\n",
    "\n"
   ]
  },
  {
   "cell_type": "code",
   "execution_count": 8,
   "metadata": {},
   "outputs": [],
   "source": [
    "(X_train, y_train), (X_test, y_test) = cifar10.load_data()\n",
    "\n",
    "X_train = X_train.astype('float32')\n",
    "y_train = to_categorical(y_train, num_classes=10)\n",
    "\n",
    "\n",
    "X_test = X_test.astype('float32')\n",
    "y_test = to_categorical(y_test, num_classes=10)\n",
    "\n",
    "X_train /= 255\n",
    "X_test /= 255"
   ]
  },
  {
   "cell_type": "code",
   "execution_count": 10,
   "metadata": {},
   "outputs": [
    {
     "name": "stdout",
     "output_type": "stream",
     "text": [
      "WARNING:tensorflow:From /home/quanghien/anaconda3/lib/python3.7/site-packages/keras/backend/tensorflow_backend.py:4070: The name tf.nn.max_pool is deprecated. Please use tf.nn.max_pool2d instead.\n",
      "\n"
     ]
    }
   ],
   "source": [
    "model = Sequential([\n",
    "    Conv2D(8, kernel_size=(3, 3), activation='relu',padding='same',input_shape=(32, 32, 3)),\n",
    "    MaxPooling2D(pool_size=(2, 2),strides=2),\n",
    "    \n",
    "    Conv2D(16, kernel_size=(3, 3), activation='relu'),\n",
    "    MaxPooling2D(pool_size=(2, 2),strides=2),\n",
    "    \n",
    "    Flatten(),\n",
    "    Dense(64, activation='relu'),\n",
    "    Dense(10, activation='softmax')\n",
    "])\n",
    "\n",
    "sgd = SGD(lr=0.01, decay=1e-6, momentum=0.9, nesterov=True)\n",
    "model.compile(loss='categorical_crossentropy', metrics=['accuracy'], optimizer=sgd)"
   ]
  },
  {
   "cell_type": "code",
   "execution_count": 11,
   "metadata": {
    "scrolled": true
   },
   "outputs": [
    {
     "name": "stdout",
     "output_type": "stream",
     "text": [
      "WARNING:tensorflow:From /home/quanghien/anaconda3/lib/python3.7/site-packages/keras/backend/tensorflow_backend.py:422: The name tf.global_variables is deprecated. Please use tf.compat.v1.global_variables instead.\n",
      "\n",
      "Train on 40000 samples, validate on 10000 samples\n",
      "Epoch 1/30\n",
      " - 16s - loss: 1.6977 - accuracy: 0.3861 - val_loss: 1.4181 - val_accuracy: 0.4893\n",
      "Epoch 2/30\n",
      " - 16s - loss: 1.3142 - accuracy: 0.5305 - val_loss: 1.2450 - val_accuracy: 0.5644\n",
      "Epoch 3/30\n",
      " - 16s - loss: 1.1783 - accuracy: 0.5810 - val_loss: 1.2446 - val_accuracy: 0.5586\n",
      "Epoch 4/30\n",
      " - 16s - loss: 1.0911 - accuracy: 0.6144 - val_loss: 1.1451 - val_accuracy: 0.6026\n",
      "Epoch 5/30\n",
      " - 16s - loss: 1.0277 - accuracy: 0.6390 - val_loss: 1.1099 - val_accuracy: 0.6165\n",
      "Epoch 6/30\n",
      " - 16s - loss: 0.9794 - accuracy: 0.6522 - val_loss: 1.1243 - val_accuracy: 0.6109\n",
      "Epoch 7/30\n",
      " - 16s - loss: 0.9299 - accuracy: 0.6721 - val_loss: 1.1874 - val_accuracy: 0.5965\n",
      "Epoch 8/30\n",
      " - 16s - loss: 0.8968 - accuracy: 0.6843 - val_loss: 1.1889 - val_accuracy: 0.6037\n",
      "Epoch 9/30\n",
      " - 16s - loss: 0.8614 - accuracy: 0.6935 - val_loss: 1.1717 - val_accuracy: 0.6131\n",
      "Epoch 10/30\n",
      " - 16s - loss: 0.8280 - accuracy: 0.7070 - val_loss: 1.2405 - val_accuracy: 0.6034\n",
      "Epoch 11/30\n",
      " - 16s - loss: 0.7976 - accuracy: 0.7181 - val_loss: 1.2843 - val_accuracy: 0.5964\n",
      "Epoch 12/30\n",
      " - 16s - loss: 0.7703 - accuracy: 0.7243 - val_loss: 1.2922 - val_accuracy: 0.6006\n",
      "Epoch 13/30\n",
      " - 16s - loss: 0.7438 - accuracy: 0.7346 - val_loss: 1.3158 - val_accuracy: 0.6036\n",
      "Epoch 14/30\n",
      " - 16s - loss: 0.7166 - accuracy: 0.7428 - val_loss: 1.3073 - val_accuracy: 0.6028\n",
      "Epoch 15/30\n",
      " - 16s - loss: 0.7004 - accuracy: 0.7486 - val_loss: 1.2951 - val_accuracy: 0.6068\n",
      "Epoch 16/30\n",
      " - 16s - loss: 0.6801 - accuracy: 0.7563 - val_loss: 1.3418 - val_accuracy: 0.5986\n",
      "Epoch 17/30\n",
      " - 16s - loss: 0.6563 - accuracy: 0.7652 - val_loss: 1.4202 - val_accuracy: 0.5983\n",
      "Epoch 18/30\n",
      " - 16s - loss: 0.6437 - accuracy: 0.7697 - val_loss: 1.5141 - val_accuracy: 0.5836\n",
      "Epoch 19/30\n",
      " - 16s - loss: 0.6170 - accuracy: 0.7790 - val_loss: 1.5769 - val_accuracy: 0.5838\n",
      "Epoch 20/30\n",
      " - 16s - loss: 0.6062 - accuracy: 0.7849 - val_loss: 1.4951 - val_accuracy: 0.5982\n",
      "Epoch 21/30\n",
      " - 16s - loss: 0.5929 - accuracy: 0.7899 - val_loss: 1.5737 - val_accuracy: 0.5808\n",
      "Epoch 22/30\n",
      " - 16s - loss: 0.5824 - accuracy: 0.7934 - val_loss: 1.5781 - val_accuracy: 0.5969\n",
      "Epoch 23/30\n",
      " - 16s - loss: 0.5719 - accuracy: 0.7955 - val_loss: 1.6189 - val_accuracy: 0.5917\n",
      "Epoch 24/30\n",
      " - 16s - loss: 0.5625 - accuracy: 0.7982 - val_loss: 1.6892 - val_accuracy: 0.5890\n",
      "Epoch 25/30\n",
      " - 16s - loss: 0.5528 - accuracy: 0.7998 - val_loss: 1.6802 - val_accuracy: 0.5873\n",
      "Epoch 26/30\n",
      " - 16s - loss: 0.5388 - accuracy: 0.8080 - val_loss: 1.7958 - val_accuracy: 0.5895\n",
      "Epoch 27/30\n",
      " - 16s - loss: 0.5299 - accuracy: 0.8108 - val_loss: 1.7681 - val_accuracy: 0.5934\n",
      "Epoch 28/30\n",
      " - 16s - loss: 0.5220 - accuracy: 0.8130 - val_loss: 1.7916 - val_accuracy: 0.5878\n",
      "Epoch 29/30\n",
      " - 16s - loss: 0.5276 - accuracy: 0.8123 - val_loss: 1.8513 - val_accuracy: 0.5797\n",
      "Epoch 30/30\n",
      " - 16s - loss: 0.5165 - accuracy: 0.8179 - val_loss: 1.9751 - val_accuracy: 0.5767\n"
     ]
    }
   ],
   "source": [
    "history1 = model.fit(X_train, y_train, batch_size=32, epochs=30, verbose=2, validation_split=0.2)\n"
   ]
  },
  {
   "cell_type": "code",
   "execution_count": 12,
   "metadata": {},
   "outputs": [],
   "source": [
    "model2 = Sequential([\n",
    "    Conv2D(32, kernel_size=(3, 3), activation='relu',input_shape=(32, 32, 3)),\n",
    "    MaxPooling2D(pool_size=(2, 2),strides=2),\n",
    "    \n",
    "    Conv2D(64, kernel_size=(3, 3), activation='relu'),\n",
    "    MaxPooling2D(pool_size=(2, 2),strides=2),\n",
    "    \n",
    "    Conv2D(128, kernel_size=(3, 3), activation='relu'),\n",
    "    MaxPooling2D(pool_size=(2, 2),strides=2),\n",
    "    \n",
    "    Flatten(),\n",
    "    Dense(128, activation='relu'),\n",
    "    Dense(10, activation='softmax')\n",
    "])"
   ]
  },
  {
   "cell_type": "code",
   "execution_count": 13,
   "metadata": {},
   "outputs": [],
   "source": [
    "sgd2 = SGD(lr=0.01, decay=1e-6, momentum=0.9, nesterov=True)\n",
    "\n",
    "model2.compile(loss='categorical_crossentropy', metrics=['accuracy'], optimizer=sgd2)"
   ]
  },
  {
   "cell_type": "code",
   "execution_count": 14,
   "metadata": {
    "scrolled": true
   },
   "outputs": [
    {
     "name": "stdout",
     "output_type": "stream",
     "text": [
      "Train on 40000 samples, validate on 10000 samples\n",
      "Epoch 1/30\n",
      " - 31s - loss: 1.6682 - accuracy: 0.3904 - val_loss: 1.3650 - val_accuracy: 0.5065\n",
      "Epoch 2/30\n",
      " - 33s - loss: 1.2253 - accuracy: 0.5666 - val_loss: 1.1363 - val_accuracy: 0.6036\n",
      "Epoch 3/30\n",
      " - 32s - loss: 1.0376 - accuracy: 0.6330 - val_loss: 1.0725 - val_accuracy: 0.6246\n",
      "Epoch 4/30\n",
      " - 33s - loss: 0.9005 - accuracy: 0.6859 - val_loss: 0.9735 - val_accuracy: 0.6637\n",
      "Epoch 5/30\n",
      " - 31s - loss: 0.8026 - accuracy: 0.7185 - val_loss: 0.9352 - val_accuracy: 0.6771\n",
      "Epoch 6/30\n",
      " - 34s - loss: 0.7219 - accuracy: 0.7438 - val_loss: 0.9187 - val_accuracy: 0.6830\n",
      "Epoch 7/30\n",
      " - 32s - loss: 0.6416 - accuracy: 0.7738 - val_loss: 1.0194 - val_accuracy: 0.6581\n",
      "Epoch 8/30\n",
      " - 33s - loss: 0.5893 - accuracy: 0.7926 - val_loss: 1.0175 - val_accuracy: 0.6769\n",
      "Epoch 9/30\n",
      " - 33s - loss: 0.5320 - accuracy: 0.8105 - val_loss: 0.9730 - val_accuracy: 0.6889\n",
      "Epoch 10/30\n",
      " - 32s - loss: 0.4785 - accuracy: 0.8296 - val_loss: 1.0154 - val_accuracy: 0.6933\n",
      "Epoch 11/30\n",
      " - 34s - loss: 0.4312 - accuracy: 0.8482 - val_loss: 1.1434 - val_accuracy: 0.6824\n",
      "Epoch 12/30\n",
      " - 32s - loss: 0.4025 - accuracy: 0.8563 - val_loss: 1.1396 - val_accuracy: 0.6782\n",
      "Epoch 13/30\n",
      " - 34s - loss: 0.3805 - accuracy: 0.8648 - val_loss: 1.1782 - val_accuracy: 0.6911\n",
      "Epoch 14/30\n",
      " - 32s - loss: 0.3559 - accuracy: 0.8757 - val_loss: 1.2165 - val_accuracy: 0.6842\n",
      "Epoch 15/30\n",
      " - 31s - loss: 0.3314 - accuracy: 0.8834 - val_loss: 1.2916 - val_accuracy: 0.6998\n",
      "Epoch 16/30\n",
      " - 34s - loss: 0.3170 - accuracy: 0.8889 - val_loss: 1.3558 - val_accuracy: 0.6863\n",
      "Epoch 17/30\n",
      " - 32s - loss: 0.3055 - accuracy: 0.8907 - val_loss: 1.4238 - val_accuracy: 0.6883\n",
      "Epoch 18/30\n",
      " - 33s - loss: 0.2946 - accuracy: 0.8960 - val_loss: 1.4316 - val_accuracy: 0.6811\n",
      "Epoch 19/30\n",
      " - 33s - loss: 0.2871 - accuracy: 0.9004 - val_loss: 1.6027 - val_accuracy: 0.6683\n",
      "Epoch 20/30\n",
      " - 33s - loss: 0.2768 - accuracy: 0.9056 - val_loss: 1.5618 - val_accuracy: 0.6815\n",
      "Epoch 21/30\n",
      " - 32s - loss: 0.2792 - accuracy: 0.9047 - val_loss: 1.6568 - val_accuracy: 0.6616\n",
      "Epoch 22/30\n",
      " - 33s - loss: 0.2812 - accuracy: 0.9039 - val_loss: 1.7297 - val_accuracy: 0.6722\n",
      "Epoch 23/30\n",
      " - 34s - loss: 0.2766 - accuracy: 0.9074 - val_loss: 1.7522 - val_accuracy: 0.6681\n",
      "Epoch 24/30\n",
      " - 33s - loss: 0.2528 - accuracy: 0.9159 - val_loss: 1.7224 - val_accuracy: 0.6754\n",
      "Epoch 25/30\n",
      " - 32s - loss: 0.2731 - accuracy: 0.9097 - val_loss: 1.7060 - val_accuracy: 0.6764\n",
      "Epoch 26/30\n",
      " - 34s - loss: 0.2705 - accuracy: 0.9112 - val_loss: 1.7537 - val_accuracy: 0.6725\n",
      "Epoch 27/30\n",
      " - 33s - loss: 0.2764 - accuracy: 0.9111 - val_loss: 1.8339 - val_accuracy: 0.6673\n",
      "Epoch 28/30\n",
      " - 32s - loss: 0.2590 - accuracy: 0.9154 - val_loss: 1.9087 - val_accuracy: 0.6714\n",
      "Epoch 29/30\n",
      " - 32s - loss: 0.2697 - accuracy: 0.9137 - val_loss: 1.9836 - val_accuracy: 0.6697\n",
      "Epoch 30/30\n",
      " - 33s - loss: 0.2828 - accuracy: 0.9081 - val_loss: 1.9492 - val_accuracy: 0.6714\n"
     ]
    }
   ],
   "source": [
    "history2 = model2.fit(X_train, y_train, batch_size=32, epochs=30, verbose=2, validation_split=0.2)\n"
   ]
  },
  {
   "cell_type": "code",
   "execution_count": 54,
   "metadata": {},
   "outputs": [],
   "source": [
    "model_dropout = [0] * 4\n",
    "for j in range(4):\n",
    "    \n",
    "    model_dropout[j] = Sequential([\n",
    "        Conv2D(32, kernel_size=(3, 3), activation='relu',input_shape=(32, 32, 3)),\n",
    "        MaxPooling2D(pool_size=(2, 2),strides=2),\n",
    "        Dropout((j+2) * 0.1),\n",
    "\n",
    "        Conv2D(64, kernel_size=(3, 3), activation='relu'),\n",
    "        MaxPooling2D(pool_size=(2, 2),strides=2),\n",
    "        Dropout((j+2) * 0.1),\n",
    "\n",
    "        Conv2D(128, kernel_size=(3, 3), activation='relu'),\n",
    "        MaxPooling2D(pool_size=(2, 2),strides=2),\n",
    "        Dropout((j+2) * 0.1),\n",
    "\n",
    "        Flatten(),\n",
    "        Dense(128, activation='relu'),\n",
    "        Dropout((j+2) * 0.1),\n",
    "\n",
    "\n",
    "        Dense(10, activation='softmax')\n",
    "    ])\n",
    "    \n",
    "sgd_dropout = SGD(lr=0.01, decay=1e-6, momentum=0.9, nesterov=True)\n",
    "\n"
   ]
  },
  {
   "cell_type": "code",
   "execution_count": 58,
   "metadata": {},
   "outputs": [
    {
     "name": "stdout",
     "output_type": "stream",
     "text": [
      "Train on 40000 samples, validate on 10000 samples\n",
      "Epoch 1/20\n",
      " - 37s - loss: 0.8162 - accuracy: 0.7150 - val_loss: 0.8211 - val_accuracy: 0.7167\n",
      "Epoch 2/20\n",
      " - 41s - loss: 0.7984 - accuracy: 0.7194 - val_loss: 0.7789 - val_accuracy: 0.7290\n",
      "Epoch 3/20\n",
      " - 43s - loss: 0.7999 - accuracy: 0.7214 - val_loss: 0.7644 - val_accuracy: 0.7392\n",
      "Epoch 4/20\n",
      " - 44s - loss: 0.7959 - accuracy: 0.7226 - val_loss: 0.7923 - val_accuracy: 0.7269\n",
      "Epoch 5/20\n",
      " - 40s - loss: 0.7863 - accuracy: 0.7260 - val_loss: 0.7808 - val_accuracy: 0.7345\n",
      "Epoch 6/20\n",
      " - 40s - loss: 0.7830 - accuracy: 0.7265 - val_loss: 0.8338 - val_accuracy: 0.7147\n",
      "Epoch 7/20\n",
      " - 41s - loss: 0.7723 - accuracy: 0.7290 - val_loss: 0.7740 - val_accuracy: 0.7346\n",
      "Epoch 8/20\n",
      " - 40s - loss: 0.7733 - accuracy: 0.7321 - val_loss: 0.7858 - val_accuracy: 0.7308\n",
      "Epoch 9/20\n",
      " - 40s - loss: 0.7645 - accuracy: 0.7333 - val_loss: 0.7666 - val_accuracy: 0.7399\n",
      "Epoch 10/20\n",
      " - 38s - loss: 0.7638 - accuracy: 0.7329 - val_loss: 0.7890 - val_accuracy: 0.7382\n",
      "Epoch 11/20\n",
      " - 39s - loss: 0.7468 - accuracy: 0.7415 - val_loss: 0.7693 - val_accuracy: 0.7438\n",
      "Epoch 12/20\n",
      " - 40s - loss: 0.7557 - accuracy: 0.7377 - val_loss: 0.8010 - val_accuracy: 0.7296\n",
      "Epoch 13/20\n",
      " - 38s - loss: 0.7474 - accuracy: 0.7375 - val_loss: 0.7707 - val_accuracy: 0.7389\n",
      "Epoch 14/20\n",
      " - 41s - loss: 0.7463 - accuracy: 0.7404 - val_loss: 0.7614 - val_accuracy: 0.7427\n",
      "Epoch 15/20\n",
      " - 40s - loss: 0.7445 - accuracy: 0.7401 - val_loss: 0.7691 - val_accuracy: 0.7376\n",
      "Epoch 16/20\n",
      " - 40s - loss: 0.7266 - accuracy: 0.7469 - val_loss: 0.7572 - val_accuracy: 0.7449\n",
      "Epoch 17/20\n",
      " - 38s - loss: 0.7394 - accuracy: 0.7430 - val_loss: 0.7954 - val_accuracy: 0.7284\n",
      "Epoch 18/20\n",
      " - 39s - loss: 0.7217 - accuracy: 0.7484 - val_loss: 0.7847 - val_accuracy: 0.7377\n",
      "Epoch 19/20\n",
      " - 40s - loss: 0.7288 - accuracy: 0.7459 - val_loss: 0.7753 - val_accuracy: 0.7385\n",
      "Epoch 20/20\n",
      " - 38s - loss: 0.7140 - accuracy: 0.7504 - val_loss: 0.7334 - val_accuracy: 0.7502\n",
      "Train on 40000 samples, validate on 10000 samples\n",
      "Epoch 1/20\n",
      " - 38s - loss: 1.0083 - accuracy: 0.6490 - val_loss: 0.8679 - val_accuracy: 0.6998\n",
      "Epoch 2/20\n",
      " - 39s - loss: 1.0013 - accuracy: 0.6507 - val_loss: 0.8536 - val_accuracy: 0.7067\n",
      "Epoch 3/20\n",
      " - 36s - loss: 0.9944 - accuracy: 0.6522 - val_loss: 0.8620 - val_accuracy: 0.7050\n",
      "Epoch 4/20\n",
      " - 39s - loss: 0.9878 - accuracy: 0.6541 - val_loss: 0.8932 - val_accuracy: 0.6872\n",
      "Epoch 5/20\n",
      " - 38s - loss: 0.9796 - accuracy: 0.6597 - val_loss: 0.9095 - val_accuracy: 0.6861\n",
      "Epoch 6/20\n",
      " - 39s - loss: 0.9644 - accuracy: 0.6633 - val_loss: 0.8418 - val_accuracy: 0.7134\n",
      "Epoch 7/20\n",
      " - 40s - loss: 0.9766 - accuracy: 0.6603 - val_loss: 0.8840 - val_accuracy: 0.6985\n",
      "Epoch 8/20\n",
      " - 38s - loss: 0.9716 - accuracy: 0.6625 - val_loss: 0.9027 - val_accuracy: 0.6897\n",
      "Epoch 9/20\n",
      " - 38s - loss: 0.9613 - accuracy: 0.6659 - val_loss: 0.8789 - val_accuracy: 0.6986\n",
      "Epoch 10/20\n",
      " - 40s - loss: 0.9566 - accuracy: 0.6661 - val_loss: 0.8272 - val_accuracy: 0.7142\n",
      "Epoch 11/20\n",
      " - 40s - loss: 0.9539 - accuracy: 0.6704 - val_loss: 0.9253 - val_accuracy: 0.6791\n",
      "Epoch 12/20\n",
      " - 37s - loss: 0.9535 - accuracy: 0.6688 - val_loss: 0.8130 - val_accuracy: 0.7188\n",
      "Epoch 13/20\n",
      " - 39s - loss: 0.9440 - accuracy: 0.6708 - val_loss: 0.8330 - val_accuracy: 0.7154\n",
      "Epoch 14/20\n",
      " - 40s - loss: 0.9379 - accuracy: 0.6754 - val_loss: 0.7889 - val_accuracy: 0.7351\n",
      "Epoch 15/20\n",
      " - 37s - loss: 0.9436 - accuracy: 0.6753 - val_loss: 0.7972 - val_accuracy: 0.7279\n",
      "Epoch 16/20\n",
      " - 39s - loss: 0.9357 - accuracy: 0.6766 - val_loss: 0.8179 - val_accuracy: 0.7227\n",
      "Epoch 17/20\n",
      " - 39s - loss: 0.9323 - accuracy: 0.6776 - val_loss: 0.7907 - val_accuracy: 0.7319\n",
      "Epoch 18/20\n",
      " - 37s - loss: 0.9294 - accuracy: 0.6766 - val_loss: 0.8278 - val_accuracy: 0.7179\n",
      "Epoch 19/20\n",
      " - 39s - loss: 0.9160 - accuracy: 0.6820 - val_loss: 0.8118 - val_accuracy: 0.7230\n",
      "Epoch 20/20\n",
      " - 40s - loss: 0.9200 - accuracy: 0.6812 - val_loss: 0.7932 - val_accuracy: 0.7324\n",
      "Train on 40000 samples, validate on 10000 samples\n",
      "Epoch 1/20\n",
      " - 37s - loss: 1.2153 - accuracy: 0.5709 - val_loss: 1.1265 - val_accuracy: 0.6004\n",
      "Epoch 2/20\n",
      " - 39s - loss: 1.2133 - accuracy: 0.5731 - val_loss: 1.1721 - val_accuracy: 0.5974\n",
      "Epoch 3/20\n",
      " - 40s - loss: 1.1996 - accuracy: 0.5788 - val_loss: 1.1055 - val_accuracy: 0.6228\n",
      "Epoch 4/20\n",
      " - 36s - loss: 1.1999 - accuracy: 0.5806 - val_loss: 1.0925 - val_accuracy: 0.6270\n",
      "Epoch 5/20\n",
      " - 39s - loss: 1.1883 - accuracy: 0.5836 - val_loss: 1.1190 - val_accuracy: 0.6141\n",
      "Epoch 6/20\n",
      " - 40s - loss: 1.1819 - accuracy: 0.5860 - val_loss: 1.1013 - val_accuracy: 0.6227\n",
      "Epoch 7/20\n",
      " - 37s - loss: 1.1781 - accuracy: 0.5911 - val_loss: 1.0920 - val_accuracy: 0.6282\n",
      "Epoch 8/20\n",
      " - 39s - loss: 1.1797 - accuracy: 0.5892 - val_loss: 1.1315 - val_accuracy: 0.6154\n",
      "Epoch 9/20\n",
      " - 40s - loss: 1.1710 - accuracy: 0.5932 - val_loss: 1.1649 - val_accuracy: 0.5986\n",
      "Epoch 10/20\n",
      " - 36s - loss: 1.1525 - accuracy: 0.5980 - val_loss: 1.2606 - val_accuracy: 0.5662\n",
      "Epoch 11/20\n",
      " - 39s - loss: 1.1552 - accuracy: 0.5973 - val_loss: 1.0118 - val_accuracy: 0.6595\n",
      "Epoch 12/20\n",
      " - 40s - loss: 1.1524 - accuracy: 0.5962 - val_loss: 1.1058 - val_accuracy: 0.6169\n",
      "Epoch 13/20\n",
      " - 37s - loss: 1.1539 - accuracy: 0.5972 - val_loss: 0.9908 - val_accuracy: 0.6645\n",
      "Epoch 14/20\n",
      " - 39s - loss: 1.1410 - accuracy: 0.6017 - val_loss: 1.0324 - val_accuracy: 0.6394\n",
      "Epoch 15/20\n",
      " - 40s - loss: 1.1503 - accuracy: 0.5993 - val_loss: 1.0861 - val_accuracy: 0.6240\n",
      "Epoch 16/20\n",
      " - 37s - loss: 1.1435 - accuracy: 0.6003 - val_loss: 1.0525 - val_accuracy: 0.6393\n",
      "Epoch 17/20\n",
      " - 39s - loss: 1.1419 - accuracy: 0.6020 - val_loss: 1.0352 - val_accuracy: 0.6364\n",
      "Epoch 18/20\n",
      " - 36s - loss: 1.1394 - accuracy: 0.6044 - val_loss: 0.9878 - val_accuracy: 0.6586\n",
      "Epoch 19/20\n",
      " - 39s - loss: 1.1307 - accuracy: 0.6048 - val_loss: 0.9863 - val_accuracy: 0.6576\n",
      "Epoch 20/20\n",
      " - 40s - loss: 1.1321 - accuracy: 0.6071 - val_loss: 1.1997 - val_accuracy: 0.5873\n",
      "Train on 40000 samples, validate on 10000 samples\n",
      "Epoch 1/20\n",
      " - 38s - loss: 2.0442 - accuracy: 0.2157 - val_loss: 1.9459 - val_accuracy: 0.2819\n",
      "Epoch 2/20\n",
      " - 39s - loss: 1.8048 - accuracy: 0.3193 - val_loss: 1.7490 - val_accuracy: 0.3599\n",
      "Epoch 3/20\n",
      " - 40s - loss: 1.7074 - accuracy: 0.3641 - val_loss: 1.7116 - val_accuracy: 0.3854\n",
      "Epoch 4/20\n",
      " - 36s - loss: 1.6515 - accuracy: 0.3916 - val_loss: 1.7436 - val_accuracy: 0.3607\n",
      "Epoch 5/20\n",
      " - 39s - loss: 1.6120 - accuracy: 0.4039 - val_loss: 1.7910 - val_accuracy: 0.3480\n",
      "Epoch 6/20\n",
      " - 40s - loss: 1.5857 - accuracy: 0.4157 - val_loss: 1.6453 - val_accuracy: 0.3951\n",
      "Epoch 7/20\n",
      " - 37s - loss: 1.5587 - accuracy: 0.4290 - val_loss: 1.6493 - val_accuracy: 0.3861\n",
      "Epoch 8/20\n",
      " - 39s - loss: 1.5376 - accuracy: 0.4389 - val_loss: 2.0170 - val_accuracy: 0.3199\n",
      "Epoch 9/20\n",
      " - 39s - loss: 1.5194 - accuracy: 0.4459 - val_loss: 1.8264 - val_accuracy: 0.3453\n",
      "Epoch 10/20\n",
      " - 37s - loss: 1.5096 - accuracy: 0.4518 - val_loss: 1.7389 - val_accuracy: 0.3584\n",
      "Epoch 11/20\n",
      " - 39s - loss: 1.4977 - accuracy: 0.4572 - val_loss: 1.6765 - val_accuracy: 0.3764\n",
      "Epoch 12/20\n",
      " - 40s - loss: 1.4965 - accuracy: 0.4600 - val_loss: 1.9926 - val_accuracy: 0.3245\n",
      "Epoch 13/20\n",
      " - 37s - loss: 1.4785 - accuracy: 0.4640 - val_loss: 1.7340 - val_accuracy: 0.3652\n",
      "Epoch 14/20\n",
      " - 39s - loss: 1.4690 - accuracy: 0.4665 - val_loss: 1.6149 - val_accuracy: 0.3986\n",
      "Epoch 15/20\n",
      " - 40s - loss: 1.4633 - accuracy: 0.4713 - val_loss: 1.6856 - val_accuracy: 0.3907\n",
      "Epoch 16/20\n",
      " - 43s - loss: 1.4621 - accuracy: 0.4734 - val_loss: 1.6931 - val_accuracy: 0.4038\n",
      "Epoch 17/20\n",
      " - 40s - loss: 1.4573 - accuracy: 0.4733 - val_loss: 1.6434 - val_accuracy: 0.3878\n",
      "Epoch 18/20\n",
      " - 37s - loss: 1.4478 - accuracy: 0.4750 - val_loss: 1.6362 - val_accuracy: 0.4100\n",
      "Epoch 19/20\n",
      " - 39s - loss: 1.4368 - accuracy: 0.4839 - val_loss: 1.5337 - val_accuracy: 0.4271\n",
      "Epoch 20/20\n",
      " - 39s - loss: 1.4361 - accuracy: 0.4837 - val_loss: 1.5363 - val_accuracy: 0.4600\n"
     ]
    }
   ],
   "source": [
    "his = []\n",
    "for j in range(4):\n",
    "    model_dropout[j].compile(loss='categorical_crossentropy', metrics=['accuracy'], optimizer=sgd_dropout)\n",
    "    his_ = model_dropout[j].fit(X_train, y_train, batch_size=32, epochs=20, verbose=2, validation_split=0.2)\n",
    "    his.append(his_)\n"
   ]
  },
  {
   "cell_type": "code",
   "execution_count": 64,
   "metadata": {},
   "outputs": [],
   "source": [
    "model_tuning_dense = [0] * 4\n",
    "for j in range(4):\n",
    "    \n",
    "    model_tuning_dense[j] = Sequential([\n",
    "        Conv2D(32, kernel_size=(3, 3), activation='relu',input_shape=(32, 32, 3)),\n",
    "        MaxPooling2D(pool_size=(2, 2),strides=2),\n",
    "\n",
    "        Conv2D(64, kernel_size=(3, 3), activation='relu'),\n",
    "        MaxPooling2D(pool_size=(2, 2),strides=2),\n",
    "\n",
    "        Conv2D(128, kernel_size=(3, 3), activation='relu'),\n",
    "        MaxPooling2D(pool_size=(2, 2),strides=2),\n",
    "\n",
    "        Flatten(),\n",
    "        \n",
    "        Dense(2**(j+5), activation='relu'),\n",
    "\n",
    "        Dense(10, activation='softmax')\n",
    "    ])\n",
    "    \n",
    "sgd_tuning_dense = SGD(lr=0.01, decay=1e-6, momentum=0.9, nesterov=True)\n"
   ]
  },
  {
   "cell_type": "code",
   "execution_count": 66,
   "metadata": {
    "scrolled": true
   },
   "outputs": [
    {
     "name": "stdout",
     "output_type": "stream",
     "text": [
      "Train on 40000 samples, validate on 10000 samples\n",
      "Epoch 1/20\n",
      " - 33s - loss: 1.7458 - accuracy: 0.3544 - val_loss: 1.4024 - val_accuracy: 0.4941\n",
      "Epoch 2/20\n",
      " - 36s - loss: 1.3000 - accuracy: 0.5343 - val_loss: 1.2358 - val_accuracy: 0.5706\n",
      "Epoch 3/20\n",
      " - 39s - loss: 1.1155 - accuracy: 0.6061 - val_loss: 1.1020 - val_accuracy: 0.6184\n",
      "Epoch 4/20\n",
      " - 42s - loss: 0.9909 - accuracy: 0.6537 - val_loss: 1.1184 - val_accuracy: 0.6118\n",
      "Epoch 5/20\n",
      " - 35s - loss: 0.9011 - accuracy: 0.6837 - val_loss: 1.0050 - val_accuracy: 0.6610\n",
      "Epoch 6/20\n",
      " - 39s - loss: 0.8205 - accuracy: 0.7134 - val_loss: 0.9864 - val_accuracy: 0.6648\n",
      "Epoch 7/20\n",
      " - 39s - loss: 0.7472 - accuracy: 0.7395 - val_loss: 0.9673 - val_accuracy: 0.6793\n",
      "Epoch 8/20\n",
      " - 39s - loss: 0.6966 - accuracy: 0.7576 - val_loss: 0.9419 - val_accuracy: 0.6903\n",
      "Epoch 9/20\n",
      " - 39s - loss: 0.6359 - accuracy: 0.7775 - val_loss: 0.9874 - val_accuracy: 0.6811\n",
      "Epoch 10/20\n",
      " - 39s - loss: 0.5968 - accuracy: 0.7898 - val_loss: 1.0130 - val_accuracy: 0.6757\n",
      "Epoch 11/20\n",
      " - 38s - loss: 0.5445 - accuracy: 0.8084 - val_loss: 1.0153 - val_accuracy: 0.6837\n",
      "Epoch 12/20\n",
      " - 39s - loss: 0.5078 - accuracy: 0.8210 - val_loss: 1.0398 - val_accuracy: 0.6923\n",
      "Epoch 13/20\n",
      " - 36s - loss: 0.4833 - accuracy: 0.8273 - val_loss: 1.0575 - val_accuracy: 0.6812\n",
      "Epoch 14/20\n",
      " - 40s - loss: 0.4530 - accuracy: 0.8403 - val_loss: 1.1257 - val_accuracy: 0.6892\n",
      "Epoch 15/20\n",
      " - 41s - loss: 0.4200 - accuracy: 0.8512 - val_loss: 1.1857 - val_accuracy: 0.6760\n",
      "Epoch 16/20\n",
      " - 41s - loss: 0.3927 - accuracy: 0.8611 - val_loss: 1.1762 - val_accuracy: 0.6941\n",
      "Epoch 17/20\n",
      " - 38s - loss: 0.3786 - accuracy: 0.8661 - val_loss: 1.2602 - val_accuracy: 0.6770\n",
      "Epoch 18/20\n",
      " - 38s - loss: 0.3614 - accuracy: 0.8713 - val_loss: 1.2920 - val_accuracy: 0.6738\n",
      "Epoch 19/20\n",
      " - 37s - loss: 0.3480 - accuracy: 0.8764 - val_loss: 1.4019 - val_accuracy: 0.6797\n",
      "Epoch 20/20\n",
      " - 38s - loss: 0.3372 - accuracy: 0.8812 - val_loss: 1.3453 - val_accuracy: 0.6717\n",
      "Train on 40000 samples, validate on 10000 samples\n",
      "Epoch 1/20\n",
      " - 33s - loss: 1.7190 - accuracy: 0.3663 - val_loss: 1.4095 - val_accuracy: 0.4915\n",
      "Epoch 2/20\n",
      " - 41s - loss: 1.2735 - accuracy: 0.5478 - val_loss: 1.1541 - val_accuracy: 0.5984\n",
      "Epoch 3/20\n",
      " - 37s - loss: 1.0891 - accuracy: 0.6186 - val_loss: 1.1239 - val_accuracy: 0.6061\n",
      "Epoch 4/20\n",
      " - 37s - loss: 0.9606 - accuracy: 0.6622 - val_loss: 1.0052 - val_accuracy: 0.6565\n",
      "Epoch 5/20\n",
      " - 38s - loss: 0.8667 - accuracy: 0.6963 - val_loss: 0.9490 - val_accuracy: 0.6742\n",
      "Epoch 6/20\n",
      " - 38s - loss: 0.7842 - accuracy: 0.7236 - val_loss: 0.9607 - val_accuracy: 0.6686\n",
      "Epoch 7/20\n",
      " - 39s - loss: 0.7116 - accuracy: 0.7511 - val_loss: 0.9309 - val_accuracy: 0.6851\n",
      "Epoch 8/20\n",
      " - 39s - loss: 0.6486 - accuracy: 0.7714 - val_loss: 0.9372 - val_accuracy: 0.6924\n",
      "Epoch 9/20\n",
      " - 44s - loss: 0.5956 - accuracy: 0.7919 - val_loss: 1.0262 - val_accuracy: 0.6818\n",
      "Epoch 10/20\n",
      " - 44s - loss: 0.5409 - accuracy: 0.8088 - val_loss: 1.0662 - val_accuracy: 0.6793\n",
      "Epoch 11/20\n",
      " - 43s - loss: 0.5105 - accuracy: 0.8198 - val_loss: 1.0586 - val_accuracy: 0.6774\n",
      "Epoch 12/20\n",
      " - 49s - loss: 0.4660 - accuracy: 0.8356 - val_loss: 1.0984 - val_accuracy: 0.6806\n",
      "Epoch 13/20\n",
      " - 49s - loss: 0.4347 - accuracy: 0.8469 - val_loss: 1.1260 - val_accuracy: 0.6783\n",
      "Epoch 14/20\n",
      " - 42s - loss: 0.4035 - accuracy: 0.8564 - val_loss: 1.2277 - val_accuracy: 0.6647\n",
      "Epoch 15/20\n",
      " - 49s - loss: 0.3758 - accuracy: 0.8664 - val_loss: 1.2463 - val_accuracy: 0.6812\n",
      "Epoch 16/20\n",
      " - 47s - loss: 0.3540 - accuracy: 0.8752 - val_loss: 1.3035 - val_accuracy: 0.6729\n",
      "Epoch 17/20\n",
      " - 45s - loss: 0.3504 - accuracy: 0.8756 - val_loss: 1.2752 - val_accuracy: 0.6848\n",
      "Epoch 18/20\n",
      " - 40s - loss: 0.3222 - accuracy: 0.8863 - val_loss: 1.3140 - val_accuracy: 0.6800\n",
      "Epoch 19/20\n",
      " - 46s - loss: 0.2980 - accuracy: 0.8946 - val_loss: 1.3987 - val_accuracy: 0.6783\n",
      "Epoch 20/20\n",
      " - 46s - loss: 0.3013 - accuracy: 0.8948 - val_loss: 1.4163 - val_accuracy: 0.6786\n",
      "Train on 40000 samples, validate on 10000 samples\n",
      "Epoch 1/20\n",
      " - 48s - loss: 1.7060 - accuracy: 0.3726 - val_loss: 1.4241 - val_accuracy: 0.4866\n",
      "Epoch 2/20\n",
      " - 52s - loss: 1.2534 - accuracy: 0.5518 - val_loss: 1.1716 - val_accuracy: 0.5949\n",
      "Epoch 3/20\n",
      " - 45s - loss: 1.0671 - accuracy: 0.6239 - val_loss: 1.0672 - val_accuracy: 0.6256\n",
      "Epoch 4/20\n",
      " - 46s - loss: 0.9371 - accuracy: 0.6701 - val_loss: 1.0361 - val_accuracy: 0.6436\n",
      "Epoch 5/20\n",
      " - 43s - loss: 0.8302 - accuracy: 0.7122 - val_loss: 0.9319 - val_accuracy: 0.6845\n",
      "Epoch 6/20\n",
      " - 45s - loss: 0.7421 - accuracy: 0.7389 - val_loss: 0.9590 - val_accuracy: 0.6849\n",
      "Epoch 7/20\n",
      " - 46s - loss: 0.6659 - accuracy: 0.7663 - val_loss: 0.9842 - val_accuracy: 0.6846\n",
      "Epoch 8/20\n",
      " - 40s - loss: 0.5969 - accuracy: 0.7903 - val_loss: 0.9453 - val_accuracy: 0.6995\n",
      "Epoch 9/20\n",
      " - 41s - loss: 0.5426 - accuracy: 0.8092 - val_loss: 0.9845 - val_accuracy: 0.6929\n",
      "Epoch 10/20\n",
      " - 40s - loss: 0.4838 - accuracy: 0.8288 - val_loss: 0.9737 - val_accuracy: 0.7057\n",
      "Epoch 11/20\n",
      " - 50s - loss: 0.4464 - accuracy: 0.8420 - val_loss: 1.1340 - val_accuracy: 0.6907\n",
      "Epoch 12/20\n",
      " - 60s - loss: 0.4059 - accuracy: 0.8561 - val_loss: 1.0861 - val_accuracy: 0.6933\n",
      "Epoch 13/20\n",
      " - 46s - loss: 0.3660 - accuracy: 0.8691 - val_loss: 1.1651 - val_accuracy: 0.6885\n",
      "Epoch 14/20\n",
      " - 51s - loss: 0.3343 - accuracy: 0.8815 - val_loss: 1.2724 - val_accuracy: 0.6881\n",
      "Epoch 15/20\n",
      " - 46s - loss: 0.3186 - accuracy: 0.8881 - val_loss: 1.2731 - val_accuracy: 0.6856\n",
      "Epoch 16/20\n",
      " - 50s - loss: 0.3049 - accuracy: 0.8917 - val_loss: 1.3241 - val_accuracy: 0.6925\n",
      "Epoch 17/20\n",
      " - 52s - loss: 0.2866 - accuracy: 0.8977 - val_loss: 1.3690 - val_accuracy: 0.6894\n",
      "Epoch 18/20\n",
      " - 43s - loss: 0.2802 - accuracy: 0.9007 - val_loss: 1.4972 - val_accuracy: 0.6799\n",
      "Epoch 19/20\n",
      " - 42s - loss: 0.2512 - accuracy: 0.9104 - val_loss: 1.5627 - val_accuracy: 0.6864\n",
      "Epoch 20/20\n",
      " - 42s - loss: 0.2585 - accuracy: 0.9097 - val_loss: 1.5088 - val_accuracy: 0.6904\n",
      "Train on 40000 samples, validate on 10000 samples\n",
      "Epoch 1/20\n",
      " - 55s - loss: 1.7178 - accuracy: 0.3714 - val_loss: 1.4244 - val_accuracy: 0.4797\n",
      "Epoch 2/20\n",
      " - 52s - loss: 1.2944 - accuracy: 0.5368 - val_loss: 1.1759 - val_accuracy: 0.5841\n",
      "Epoch 3/20\n",
      " - 43s - loss: 1.0963 - accuracy: 0.6145 - val_loss: 1.0667 - val_accuracy: 0.6262\n",
      "Epoch 4/20\n",
      " - 63s - loss: 0.9559 - accuracy: 0.6636 - val_loss: 0.9920 - val_accuracy: 0.6518\n",
      "Epoch 5/20\n",
      " - 50s - loss: 0.8428 - accuracy: 0.7062 - val_loss: 0.9192 - val_accuracy: 0.6816\n",
      "Epoch 6/20\n",
      " - 53s - loss: 0.7520 - accuracy: 0.7361 - val_loss: 0.8847 - val_accuracy: 0.6925\n",
      "Epoch 7/20\n",
      " - 39s - loss: 0.6662 - accuracy: 0.7656 - val_loss: 0.8996 - val_accuracy: 0.7026\n",
      "Epoch 8/20\n",
      " - 38s - loss: 0.5890 - accuracy: 0.7915 - val_loss: 0.9156 - val_accuracy: 0.7028\n",
      "Epoch 9/20\n",
      " - 38s - loss: 0.5267 - accuracy: 0.8141 - val_loss: 0.9158 - val_accuracy: 0.7030\n",
      "Epoch 10/20\n",
      " - 38s - loss: 0.4549 - accuracy: 0.8378 - val_loss: 0.9906 - val_accuracy: 0.7004\n",
      "Epoch 11/20\n",
      " - 45s - loss: 0.4068 - accuracy: 0.8554 - val_loss: 1.0802 - val_accuracy: 0.6979\n",
      "Epoch 12/20\n",
      " - 43s - loss: 0.3587 - accuracy: 0.8713 - val_loss: 1.1464 - val_accuracy: 0.7009\n",
      "Epoch 13/20\n",
      " - 42s - loss: 0.3136 - accuracy: 0.8881 - val_loss: 1.1993 - val_accuracy: 0.7049\n",
      "Epoch 14/20\n",
      " - 40s - loss: 0.3015 - accuracy: 0.8921 - val_loss: 1.1692 - val_accuracy: 0.6991\n",
      "Epoch 15/20\n",
      " - 51s - loss: 0.2731 - accuracy: 0.9042 - val_loss: 1.2876 - val_accuracy: 0.7062\n",
      "Epoch 16/20\n",
      " - 50s - loss: 0.2401 - accuracy: 0.9151 - val_loss: 1.4041 - val_accuracy: 0.7006\n",
      "Epoch 17/20\n",
      " - 43s - loss: 0.2329 - accuracy: 0.9165 - val_loss: 1.4318 - val_accuracy: 0.6935\n",
      "Epoch 18/20\n",
      " - 45s - loss: 0.2279 - accuracy: 0.9209 - val_loss: 1.4322 - val_accuracy: 0.7012\n",
      "Epoch 19/20\n",
      " - 46s - loss: 0.2142 - accuracy: 0.9264 - val_loss: 1.5909 - val_accuracy: 0.6727\n",
      "Epoch 20/20\n",
      " - 43s - loss: 0.2051 - accuracy: 0.9291 - val_loss: 1.6202 - val_accuracy: 0.6957\n"
     ]
    }
   ],
   "source": [
    "his_tuning_dense = []\n",
    "for j in range(4):\n",
    "    model_tuning_dense[j].compile(loss='categorical_crossentropy', metrics=['accuracy'], optimizer=sgd_dropout)\n",
    "    his_ = model_tuning_dense[j].fit(X_train, y_train, batch_size=32, epochs=20, verbose=2, validation_split=0.2)\n",
    "    his_tuning_dense.append(his_)"
   ]
  },
  {
   "cell_type": "markdown",
   "metadata": {},
   "source": [
    "## 1 Performance of the initial network"
   ]
  },
  {
   "cell_type": "code",
   "execution_count": 43,
   "metadata": {},
   "outputs": [
    {
     "name": "stdout",
     "output_type": "stream",
     "text": [
      "Test accuracy 0.5817000269889832\n"
     ]
    }
   ],
   "source": [
    "score = model.evaluate(X_test, y_test, verbose=0)\n",
    "print('Test accuracy',score[1])"
   ]
  },
  {
   "cell_type": "code",
   "execution_count": 44,
   "metadata": {},
   "outputs": [
    {
     "data": {
      "image/png": "[encoded data removed]",
      "text/plain": [
       "<Figure size 432x288 with 1 Axes>"
      ]
     },
     "metadata": {
      "needs_background": "light"
     },
     "output_type": "display_data"
    }
   ],
   "source": [
    "plt.plot(history1.history['loss'], label='loss')\n",
    "plt.plot(history1.history['val_loss'], label = 'val_loss')\n",
    "plt.legend()\n",
    "plt.show()"
   ]
  },
  {
   "cell_type": "code",
   "execution_count": 46,
   "metadata": {
    "scrolled": true
   },
   "outputs": [
    {
     "data": {
      "image/png": "[encoded data removed]",
      "text/plain": [
       "<Figure size 432x288 with 1 Axes>"
      ]
     },
     "metadata": {
      "needs_background": "light"
     },
     "output_type": "display_data"
    }
   ],
   "source": [
    "plt.plot(history1.history['accuracy'], label='acc')\n",
    "plt.plot(history1.history['val_accuracy'], label = 'val_acc')\n",
    "plt.legend()\n",
    "plt.show()"
   ]
  },
  {
   "cell_type": "markdown",
   "metadata": {},
   "source": [
    "## 2 Second model performance"
   ]
  },
  {
   "cell_type": "code",
   "execution_count": 47,
   "metadata": {},
   "outputs": [
    {
     "name": "stdout",
     "output_type": "stream",
     "text": [
      "Test accuracy 0.6743000149726868\n"
     ]
    }
   ],
   "source": [
    "score2 = model2.evaluate(X_test, y_test, verbose=0)\n",
    "print('Test accuracy',score2[1])"
   ]
  },
  {
   "cell_type": "code",
   "execution_count": 48,
   "metadata": {},
   "outputs": [
    {
     "data": {
      "image/png": "[encoded data removed]",
      "text/plain": [
       "<Figure size 432x288 with 1 Axes>"
      ]
     },
     "metadata": {
      "needs_background": "light"
     },
     "output_type": "display_data"
    }
   ],
   "source": [
    "plt.plot(history2.history['loss'], label='loss')\n",
    "plt.plot(history2.history['val_loss'], label = 'val_loss')\n",
    "plt.legend()\n",
    "plt.show()"
   ]
  },
  {
   "cell_type": "code",
   "execution_count": 49,
   "metadata": {},
   "outputs": [
    {
     "data": {
      "image/png": "[encoded data removed]",
      "text/plain": [
       "<Figure size 432x288 with 1 Axes>"
      ]
     },
     "metadata": {
      "needs_background": "light"
     },
     "output_type": "display_data"
    }
   ],
   "source": [
    "plt.plot(history2.history['accuracy'], label='acc')\n",
    "plt.plot(history2.history['val_accuracy'], label = 'val_acc')\n",
    "plt.legend()\n",
    "plt.show()"
   ]
  },
  {
   "cell_type": "markdown",
   "metadata": {},
   "source": [
    "## 3 Adding dropout layer"
   ]
  },
  {
   "cell_type": "code",
   "execution_count": 59,
   "metadata": {},
   "outputs": [
    {
     "data": {
      "text/plain": [
       "Text(0.5, 1.0, '0.5')"
      ]
     },
     "execution_count": 59,
     "metadata": {},
     "output_type": "execute_result"
    },
    {
     "data": {
      "image/png": "[encoded data removed]",
      "text/plain": [
       "<Figure size 432x288 with 4 Axes>"
      ]
     },
     "metadata": {
      "needs_background": "light"
     },
     "output_type": "display_data"
    }
   ],
   "source": [
    "fig, axs = plt.subplots(2, 2)\n",
    "\n",
    "axs[0, 0].plot(his[0].history['loss'], label='loss')\n",
    "axs[0, 0].plot(his[0].history['val_loss'], label = 'val_loss')\n",
    "axs[0, 0].set_title('0.2')\n",
    "\n",
    "axs[0, 1].plot(his[1].history['loss'], label='loss')\n",
    "axs[0, 1].plot(his[1].history['val_loss'], label = 'val_loss')\n",
    "axs[0, 1].set_title('0.3')\n",
    "\n",
    "axs[1, 0].plot(his[2].history['loss'], label='loss')\n",
    "axs[1, 0].plot(his[2].history['val_loss'], label = 'val_loss')\n",
    "axs[1, 0].set_title('0.4')\n",
    "\n",
    "axs[1, 1].plot(his[3].history['loss'], label='loss')\n",
    "axs[1, 1].plot(his[3].history['val_loss'], label = 'val_loss')\n",
    "axs[1, 1].set_title('0.5')"
   ]
  },
  {
   "cell_type": "code",
   "execution_count": 60,
   "metadata": {
    "scrolled": true
   },
   "outputs": [
    {
     "data": {
      "image/png": "[encoded data removed]",
      "text/plain": [
       "<Figure size 432x288 with 1 Axes>"
      ]
     },
     "metadata": {
      "needs_background": "light"
     },
     "output_type": "display_data"
    }
   ],
   "source": [
    "for i in range(4):\n",
    "    plt.plot(his[i].history['accuracy'], label= (i+2)*0.1)\n",
    "plt.legend()\n",
    "plt.show()"
   ]
  },
  {
   "cell_type": "code",
   "execution_count": 61,
   "metadata": {
    "scrolled": true
   },
   "outputs": [
    {
     "name": "stdout",
     "output_type": "stream",
     "text": [
      "Test accuracy 0.7461000084877014\n"
     ]
    }
   ],
   "source": [
    "score02 = model_dropout[0].evaluate(X_test, y_test, verbose=0)\n",
    "print('Test accuracy',score02[1])"
   ]
  },
  {
   "cell_type": "markdown",
   "metadata": {},
   "source": [
    "## 3 Tuning Dense units"
   ]
  },
  {
   "cell_type": "code",
   "execution_count": 71,
   "metadata": {},
   "outputs": [
    {
     "data": {
      "image/png": "[encoded data removed]",
      "text/plain": [
       "<Figure size 432x288 with 1 Axes>"
      ]
     },
     "metadata": {
      "needs_background": "light"
     },
     "output_type": "display_data"
    }
   ],
   "source": [
    "plt.plot(his_tuning_dense[0].history['accuracy'], label='32')\n",
    "plt.plot(his_tuning_dense[1].history['accuracy'], label='64')\n",
    "plt.plot(his_tuning_dense[2].history['accuracy'], label='128')\n",
    "plt.plot(his_tuning_dense[3].history['accuracy'], label='256')\n",
    "plt.legend()\n",
    "plt.show()"
   ]
  }
 ],
 "metadata": {
  "kernelspec": {
   "display_name": "Python 3",
   "language": "python",
   "name": "python3"
  },
  "language_info": {
   "codemirror_mode": {
    "name": "ipython",
    "version": 3
   },
   "file_extension": ".py",
   "mimetype": "text/x-python",
   "name": "python",
   "nbconvert_exporter": "python",
   "pygments_lexer": "ipython3",
   "version": "3.7.4"
  }
 },
 "nbformat": 4,
 "nbformat_minor": 4
}
