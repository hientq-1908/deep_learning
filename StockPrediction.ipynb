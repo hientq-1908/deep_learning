{
 "cells": [
  {
   "cell_type": "code",
   "execution_count": 118,
   "metadata": {},
   "outputs": [],
   "source": [
    "import pandas as pd\n",
    "import numpy as np\n",
    "from sklearn.preprocessing import MinMaxScaler\n",
    "from sklearn.metrics import mean_squared_error\n",
    "from tensorflow.keras.models import Sequential\n",
    "from tensorflow.keras.layers import Dense, LSTM,Dropout\n",
    "import matplotlib.pyplot as plt\n",
    "from math import sqrt\n"
   ]
  },
  {
   "cell_type": "code",
   "execution_count": 188,
   "metadata": {},
   "outputs": [],
   "source": [
    "df_train = pd.read_csv('Google_Stock_Price_Train.csv', thousands=',')\n",
    "df_train = df_train.iloc[:,1:]\n",
    "df_train = np.array(df_train)\n"
   ]
  },
  {
   "cell_type": "code",
   "execution_count": 189,
   "metadata": {},
   "outputs": [],
   "source": [
    "df_test = pd.read_csv('Google_Stock_Price_Test.csv', thousands=',')\n",
    "df_test = df_test.iloc[:,1:]\n",
    "df_test = np.array(df_train)"
   ]
  },
  {
   "cell_type": "code",
   "execution_count": 7,
   "metadata": {},
   "outputs": [],
   "source": [
    "def time_series_generator(dataset, steps):\n",
    "    list_X, list_y = list(), list()\n",
    "    for i in range(len(dataset) - steps - 1):\n",
    "        X = dataset[i : i + steps]\n",
    "        y = dataset[i + steps]\n",
    "        list_X.append(X)\n",
    "        list_y.append(y)\n",
    "    return np.array(list_X), np.array(list_y)"
   ]
  },
  {
   "cell_type": "code",
   "execution_count": 8,
   "metadata": {},
   "outputs": [],
   "source": [
    "scaler = MinMaxScaler(feature_range=(0,1))\n",
    "df_train = scaler.fit_transform(df_train)\n"
   ]
  },
  {
   "cell_type": "code",
   "execution_count": 190,
   "metadata": {},
   "outputs": [],
   "source": [
    "df_test = scaler.transform(df_test)"
   ]
  },
  {
   "cell_type": "code",
   "execution_count": 9,
   "metadata": {},
   "outputs": [],
   "source": [
    "val_ratio = 0.2\n",
    "val_size = int(val_ratio * df_train.shape[0])\n",
    "train_set = df_train[0:-val_size]\n",
    "val_set = df_train[-val_size:]"
   ]
  },
  {
   "cell_type": "code",
   "execution_count": 191,
   "metadata": {
    "scrolled": true
   },
   "outputs": [],
   "source": [
    "steps = 5\n",
    "X_train, y_train = time_series_generator(train_set, steps)\n",
    "X_val, y_val = time_series_generator(val_set, steps)\n",
    "X_test, y_test = time_series_generator(df_test, steps)"
   ]
  },
  {
   "cell_type": "code",
   "execution_count": 12,
   "metadata": {},
   "outputs": [],
   "source": [
    "# X_train =X_train.reshape(X_train.shape[0],X_train.shape[1] , 5)\n",
    "# X_val =X_val.reshape(X_val.shape[0],X_val.shape[1] , 5)\n"
   ]
  },
  {
   "cell_type": "code",
   "execution_count": 34,
   "metadata": {},
   "outputs": [],
   "source": [
    "def build_model(neuron,n_steps, n_features):\n",
    "    model = Sequential()\n",
    "    model.add(LSTM(neuron, activation='relu', return_sequences=True, input_shape=(n_steps, n_features)))\n",
    "    model.add(LSTM(neuron, activation='relu'))\n",
    "    model.add(Dense(n_features))\n",
    "    model.compile(loss='mean_absolute_error', optimizer='adam', metrics=['mean_squared_error'])\n",
    "    return model\n",
    "    \n"
   ]
  },
  {
   "cell_type": "code",
   "execution_count": 199,
   "metadata": {},
   "outputs": [],
   "source": [
    "def calculate_RMSE(y_pred, y_test):\n",
    "    s = 0\n",
    "    for row in range(y_test.shape[0]):\n",
    "        for col in range(y_test.shape[1]):\n",
    "            s += (y_test[row,col] - y_pred[row,col]) ** 2\n",
    "    score = sqrt(s/y_test.shape[0] * y_test.shape[1])\n",
    "    return score"
   ]
  },
  {
   "cell_type": "code",
   "execution_count": 170,
   "metadata": {},
   "outputs": [],
   "source": [
    "def build_model2(n_layers,n_steps, n_features):\n",
    "    model = Sequential()\n",
    "    model.add(LSTM(50, activation='relu', return_sequences=True, input_shape=(n_steps, n_features)))\n",
    "    for i in range(n_layers-1):\n",
    "        model.add(LSTM(50, activation='relu', return_sequences=True))\n",
    "    model.add(LSTM(neuron, activation='relu'))\n",
    "    model.add(Dense(n_features))\n",
    "    model.compile(loss='mean_absolute_error', optimizer='adam', metrics=['mean_squared_error'])\n",
    "    return model"
   ]
  },
  {
   "cell_type": "markdown",
   "metadata": {},
   "source": [
    "# 1. Experiment 1"
   ]
  },
  {
   "cell_type": "code",
   "execution_count": 54,
   "metadata": {
    "scrolled": true
   },
   "outputs": [],
   "source": [
    "repeat = 4\n",
    "scores = []\n",
    "n_steps = [3,4,5,6]\n",
    "n_features = 5\n",
    "for i in range(repeat):\n",
    "    for n_step in n_steps:\n",
    "        model = build_model(50,n_step,n_features)\n",
    "        X_train, y_train = time_series_generator(train_set, n_step)\n",
    "        X_val, y_val = time_series_generator(val_set, n_step)\n",
    "\n",
    "        model.fit(X_train, y_train,epochs=25, batch_size=1, verbose = 0 )\n",
    "        y_pred = model.predict(X_val)\n",
    "        scores.append(calculate_RMSE(y_pred, y_val))"
   ]
  },
  {
   "cell_type": "code",
   "execution_count": 49,
   "metadata": {},
   "outputs": [
    {
     "data": {
      "text/plain": [
       "[0.1396289667877321,\n",
       " 0.10765033993445035,\n",
       " 0.11122643707661684,\n",
       " 0.12028541678624134]"
      ]
     },
     "execution_count": 49,
     "metadata": {},
     "output_type": "execute_result"
    }
   ],
   "source": [
    "scores"
   ]
  },
  {
   "cell_type": "code",
   "execution_count": 57,
   "metadata": {},
   "outputs": [
    {
     "data": {
      "text/plain": [
       "array([[0.12442871, 0.1687274 , 0.12101473, 0.11684393],\n",
       "       [0.11542517, 0.1339387 , 0.15217013, 0.13469609],\n",
       "       [0.11478486, 0.10860589, 0.16268319, 0.10032878],\n",
       "       [0.11986193, 0.17061645, 0.11248301, 0.22433718]])"
      ]
     },
     "execution_count": 57,
     "metadata": {},
     "output_type": "execute_result"
    }
   ],
   "source": [
    "scores = np.array(scores).reshape(len(n_steps),repeat)\n",
    "scores"
   ]
  },
  {
   "cell_type": "code",
   "execution_count": 97,
   "metadata": {},
   "outputs": [
    {
     "data": {
      "image/png": "[encoded data removed]",
      "text/plain": [
       "<Figure size 432x288 with 1 Axes>"
      ]
     },
     "metadata": {
      "needs_background": "light"
     },
     "output_type": "display_data"
    }
   ],
   "source": [
    "plt.boxplot(scores, labels = [3,4,5,6])\n",
    "plt.show()"
   ]
  },
  {
   "cell_type": "markdown",
   "metadata": {},
   "source": [
    "# 2. Experiment 2"
   ]
  },
  {
   "cell_type": "code",
   "execution_count": 152,
   "metadata": {},
   "outputs": [],
   "source": [
    "steps = 5\n",
    "X_train, y_train = time_series_generator(train_set, steps)\n",
    "X_val, y_val = time_series_generator(val_set, steps)"
   ]
  },
  {
   "cell_type": "code",
   "execution_count": 68,
   "metadata": {
    "scrolled": true
   },
   "outputs": [],
   "source": [
    "neurons = [50,60,70,80,90]\n",
    "repeat = 4\n",
    "n_features = 5\n",
    "n_steps = 5\n",
    "scores_neurons = []\n",
    "for i in range(repeat):\n",
    "    for neuron in neurons:\n",
    "        model = build_model(neuron, n_steps,n_features)\n",
    "        model.fit(X_train, y_train, epochs=25, batch_size=1, verbose = 0)\n",
    "        y_pred = model.predict(X_val)\n",
    "        scores_neurons.append(calculate_RMSE(y_pred, y_val))"
   ]
  },
  {
   "cell_type": "code",
   "execution_count": 75,
   "metadata": {
    "scrolled": true
   },
   "outputs": [
    {
     "data": {
      "text/plain": [
       "array([[0.12972105, 0.18086255, 0.11481741, 0.11075482, 0.10617817],\n",
       "       [0.15754874, 0.17230763, 0.10535249, 0.12447586, 0.21163433],\n",
       "       [0.132592  , 0.11149595, 0.10982555, 0.10696076, 0.11179274],\n",
       "       [0.15169685, 0.13593095, 0.16522887, 0.14157358, 0.11632592]])"
      ]
     },
     "execution_count": 75,
     "metadata": {},
     "output_type": "execute_result"
    }
   ],
   "source": [
    "scores_neurons = np.array(scores_neurons).reshape(repeat, len(neurons))\n",
    "scores_neurons"
   ]
  },
  {
   "cell_type": "code",
   "execution_count": 94,
   "metadata": {},
   "outputs": [
    {
     "data": {
      "image/png": "[encoded data removed]",
      "text/plain": [
       "<Figure size 432x288 with 1 Axes>"
      ]
     },
     "metadata": {
      "needs_background": "light"
     },
     "output_type": "display_data"
    }
   ],
   "source": [
    "plt.boxplot(scores_neurons, labels=neurons)\n",
    "plt.show()"
   ]
  },
  {
   "cell_type": "code",
   "execution_count": 172,
   "metadata": {
    "scrolled": true
   },
   "outputs": [],
   "source": [
    "n_layers = [1,2,3,4]\n",
    "steps = 5\n",
    "repeat = 4\n",
    "n_features = 5\n",
    "scores_layers = []\n",
    "\n",
    "for i in range(4):\n",
    "    for n_layer in n_layers:\n",
    "        model = build_model2(n_layer, 5, 5)\n",
    "        model.fit(X_train, y_train, epochs=25, batch_size=1, verbose = 0)\n",
    "        y_pred = model.predict(X_val)\n",
    "        scores_layers.append(calculate_RMSE(y_pred, y_val))"
   ]
  },
  {
   "cell_type": "code",
   "execution_count": 176,
   "metadata": {},
   "outputs": [
    {
     "data": {
      "text/plain": [
       "array([[0.10408805, 0.12912509, 0.17661613, 0.19966337],\n",
       "       [0.13159796, 0.1341633 , 0.12342974, 0.1653874 ],\n",
       "       [0.13291588, 0.15691134, 0.12980797, 0.14551058],\n",
       "       [0.14146475, 0.14298885, 0.21269562, 0.12290432]])"
      ]
     },
     "execution_count": 176,
     "metadata": {},
     "output_type": "execute_result"
    }
   ],
   "source": [
    "scores_layers = np.array(scores_layers).reshape(repeat, len(n_layers))\n",
    "scores_layers"
   ]
  },
  {
   "cell_type": "code",
   "execution_count": 178,
   "metadata": {},
   "outputs": [
    {
     "data": {
      "image/png": "[encoded data removed]",
      "text/plain": [
       "<Figure size 432x288 with 1 Axes>"
      ]
     },
     "metadata": {
      "needs_background": "light"
     },
     "output_type": "display_data"
    }
   ],
   "source": [
    "plt.boxplot(scores_layers, labels=n_layers)\n",
    "plt.show()"
   ]
  },
  {
   "cell_type": "markdown",
   "metadata": {},
   "source": [
    "# The best model"
   ]
  },
  {
   "cell_type": "code",
   "execution_count": 192,
   "metadata": {},
   "outputs": [],
   "source": [
    "steps = 3\n",
    "X_train, y_train = time_series_generator(train_set, steps)\n",
    "X_val, y_val = time_series_generator(val_set, steps)\n",
    "X_test, y_test = time_series_generator(df_test, steps)"
   ]
  },
  {
   "cell_type": "code",
   "execution_count": 180,
   "metadata": {},
   "outputs": [],
   "source": [
    "def build_best_model():\n",
    "    model = Sequential()\n",
    "    model.add(LSTM(70, activation='relu', return_sequences=True, input_shape=(3, 5)))\n",
    "    model.add(LSTM(70, activation='relu',))\n",
    "\n",
    "    model.add(Dense(5))\n",
    "    model.compile(loss='mean_absolute_error', optimizer='adam', metrics=['mean_squared_error'])\n",
    "    return model"
   ]
  },
  {
   "cell_type": "code",
   "execution_count": 181,
   "metadata": {},
   "outputs": [],
   "source": [
    "best_model = build_best_model()"
   ]
  },
  {
   "cell_type": "code",
   "execution_count": 183,
   "metadata": {
    "scrolled": true
   },
   "outputs": [
    {
     "name": "stdout",
     "output_type": "stream",
     "text": [
      "Epoch 1/25\n",
      "1003/1003 - 3s - loss: 0.0409 - mean_squared_error: 0.0049\n",
      "Epoch 2/25\n",
      "1003/1003 - 3s - loss: 0.0268 - mean_squared_error: 0.0023\n",
      "Epoch 3/25\n",
      "1003/1003 - 3s - loss: 0.0249 - mean_squared_error: 0.0021\n",
      "Epoch 4/25\n",
      "1003/1003 - 3s - loss: 0.0247 - mean_squared_error: 0.0021\n",
      "Epoch 5/25\n",
      "1003/1003 - 3s - loss: 0.0239 - mean_squared_error: 0.0020\n",
      "Epoch 6/25\n",
      "1003/1003 - 3s - loss: 0.0235 - mean_squared_error: 0.0020\n",
      "Epoch 7/25\n",
      "1003/1003 - 4s - loss: 0.0228 - mean_squared_error: 0.0020\n",
      "Epoch 8/25\n",
      "1003/1003 - 6s - loss: 0.0222 - mean_squared_error: 0.0019\n",
      "Epoch 9/25\n",
      "1003/1003 - 3s - loss: 0.0222 - mean_squared_error: 0.0019\n",
      "Epoch 10/25\n",
      "1003/1003 - 3s - loss: 0.0218 - mean_squared_error: 0.0018\n",
      "Epoch 11/25\n",
      "1003/1003 - 3s - loss: 0.0205 - mean_squared_error: 0.0018\n",
      "Epoch 12/25\n",
      "1003/1003 - 3s - loss: 0.0202 - mean_squared_error: 0.0018\n",
      "Epoch 13/25\n",
      "1003/1003 - 3s - loss: 0.0199 - mean_squared_error: 0.0017\n",
      "Epoch 14/25\n",
      "1003/1003 - 4s - loss: 0.0195 - mean_squared_error: 0.0017\n",
      "Epoch 15/25\n",
      "1003/1003 - 3s - loss: 0.0192 - mean_squared_error: 0.0017\n",
      "Epoch 16/25\n",
      "1003/1003 - 3s - loss: 0.0188 - mean_squared_error: 0.0016\n",
      "Epoch 17/25\n",
      "1003/1003 - 3s - loss: 0.0190 - mean_squared_error: 0.0016\n",
      "Epoch 18/25\n",
      "1003/1003 - 3s - loss: 0.0183 - mean_squared_error: 0.0016\n",
      "Epoch 19/25\n",
      "1003/1003 - 5s - loss: 0.0183 - mean_squared_error: 0.0015\n",
      "Epoch 20/25\n",
      "1003/1003 - 3s - loss: 0.0178 - mean_squared_error: 0.0015\n",
      "Epoch 21/25\n",
      "1003/1003 - 3s - loss: 0.0178 - mean_squared_error: 0.0015\n",
      "Epoch 22/25\n",
      "1003/1003 - 3s - loss: 0.0180 - mean_squared_error: 0.0015\n",
      "Epoch 23/25\n",
      "1003/1003 - 3s - loss: 0.0171 - mean_squared_error: 0.0014\n",
      "Epoch 24/25\n",
      "1003/1003 - 3s - loss: 0.0170 - mean_squared_error: 0.0014\n",
      "Epoch 25/25\n",
      "1003/1003 - 3s - loss: 0.0173 - mean_squared_error: 0.0014\n"
     ]
    },
    {
     "data": {
      "text/plain": [
       "<tensorflow.python.keras.callbacks.History at 0x7f1c33ab94d0>"
      ]
     },
     "execution_count": 183,
     "metadata": {},
     "output_type": "execute_result"
    }
   ],
   "source": [
    "best_model.fit(X_train, y_train, epochs=25, batch_size=1, verbose = 2)"
   ]
  },
  {
   "cell_type": "code",
   "execution_count": 208,
   "metadata": {},
   "outputs": [
    {
     "name": "stdout",
     "output_type": "stream",
     "text": [
      "RMSE val 0.1114151560651446\n"
     ]
    }
   ],
   "source": [
    "y_pred = best_model.predict(X_val)\n",
    "print('RMSE val', calculate_RMSE(y_pred, y_val))"
   ]
  },
  {
   "cell_type": "code",
   "execution_count": 209,
   "metadata": {},
   "outputs": [
    {
     "name": "stdout",
     "output_type": "stream",
     "text": [
      "RMSE test 0.18037577088085993\n"
     ]
    }
   ],
   "source": [
    "y_pred = best_model.predict(X_test)\n",
    "print('RMSE test',calculate_RMSE(y_pred, y_test))"
   ]
  },
  {
   "cell_type": "code",
   "execution_count": null,
   "metadata": {},
   "outputs": [],
   "source": []
  },
  {
   "cell_type": "code",
   "execution_count": null,
   "metadata": {},
   "outputs": [],
   "source": []
  }
 ],
 "metadata": {
  "kernelspec": {
   "display_name": "Python 3",
   "language": "python",
   "name": "python3"
  },
  "language_info": {
   "codemirror_mode": {
    "name": "ipython",
    "version": 3
   },
   "file_extension": ".py",
   "mimetype": "text/x-python",
   "name": "python",
   "nbconvert_exporter": "python",
   "pygments_lexer": "ipython3",
   "version": "3.7.4"
  }
 },
 "nbformat": 4,
 "nbformat_minor": 4
}
